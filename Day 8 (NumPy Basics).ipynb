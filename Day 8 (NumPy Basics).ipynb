{
 "cells": [
  {
   "cell_type": "markdown",
   "id": "98ceb483-8588-49a7-bef5-e3f99a3506a1",
   "metadata": {},
   "source": [
    "# Day 8: NumPy Basics – Arrays, Operations, and Matrix Multiplication:-"
   ]
  },
  {
   "cell_type": "code",
   "execution_count": 1,
   "id": "caa9d50c-545d-4136-bd8a-34c75a7a67db",
   "metadata": {},
   "outputs": [],
   "source": [
    "import numpy as np                       #np is the (alias) or we can say nickname."
   ]
  },
  {
   "cell_type": "code",
   "execution_count": 4,
   "id": "706349fc-e083-45bc-8469-a6a12464871c",
   "metadata": {},
   "outputs": [
    {
     "data": {
      "text/plain": [
       "numpy.ndarray"
      ]
     },
     "execution_count": 4,
     "metadata": {},
     "output_type": "execute_result"
    }
   ],
   "source": [
    "#Creating my first array-\n",
    "\n",
    "array=[23,34,32,65,54]\n",
    "arr1=np.array(array)    #converting to the numpy array\n",
    "arr1\n",
    "type(arr1)              #type of array"
   ]
  },
  {
   "cell_type": "code",
   "execution_count": 11,
   "id": "73961938-ecca-4a30-9b7f-b7b48bac4261",
   "metadata": {},
   "outputs": [
    {
     "name": "stdout",
     "output_type": "stream",
     "text": [
      "[ 23  21   2  34 434]\n"
     ]
    },
    {
     "data": {
      "text/plain": [
       "1"
      ]
     },
     "execution_count": 11,
     "metadata": {},
     "output_type": "execute_result"
    }
   ],
   "source": [
    "# Creating a one dimensional array:-\n",
    "arr=np.array([23,21,2,34,434])\n",
    "print(arr)\n",
    "arr.ndim          #checking dimensional of an array"
   ]
  },
  {
   "cell_type": "code",
   "execution_count": 15,
   "id": "44c7b8b6-cc21-4000-9263-0f45728f1406",
   "metadata": {},
   "outputs": [
    {
     "name": "stdout",
     "output_type": "stream",
     "text": [
      "[[22 34 32]\n",
      " [22 98 88]\n",
      " [23 34 56]]\n",
      "[[22 34 32 22 98 88 23 34 56]]\n"
     ]
    },
    {
     "data": {
      "text/plain": [
       "2"
      ]
     },
     "execution_count": 15,
     "metadata": {},
     "output_type": "execute_result"
    }
   ],
   "source": [
    "#Creating 2 dimensional array\n",
    "\n",
    "arr2=np.array([[22,34,32],[22,98,88],[23,34,56]])\n",
    "print(arr2)\n",
    "arr2.ndim       #checking dimensional of an array\n",
    "\n",
    "# or\n",
    "\n",
    "array2=np.array([[22,34,32,22,98,88,23,34,56]])\n",
    "print(array2)\n",
    "array2.ndim   #checking dimensional of an array\n"
   ]
  },
  {
   "cell_type": "code",
   "execution_count": 18,
   "id": "4f7d0757-1e48-44bb-be22-59c2c5608232",
   "metadata": {},
   "outputs": [
    {
     "name": "stdout",
     "output_type": "stream",
     "text": [
      "[[[23 34 34]]]\n"
     ]
    },
    {
     "data": {
      "text/plain": [
       "3"
      ]
     },
     "execution_count": 18,
     "metadata": {},
     "output_type": "execute_result"
    }
   ],
   "source": [
    "# Creating 3 dimensional array:-\n",
    "\n",
    "arr3=np.array([[[23,34,34]]])\n",
    "\n",
    "print(arr3)\n",
    "arr3.ndim\n",
    "\n"
   ]
  },
  {
   "cell_type": "code",
   "execution_count": 33,
   "id": "6a2c0620-17c3-40ad-ba4e-00941fc78410",
   "metadata": {},
   "outputs": [
    {
     "name": "stdout",
     "output_type": "stream",
     "text": [
      "[[[ 0  1  2  3]\n",
      "  [ 4  5  6  7]\n",
      "  [ 8  9 10 11]]\n",
      "\n",
      " [[12 13 14 15]\n",
      "  [16 17 18 19]\n",
      "  [20 21 22 23]]]\n",
      "\n",
      "5\n",
      "Accessing 1st block [[12 13 14 15]\n",
      " [16 17 18 19]\n",
      " [20 21 22 23]]\n",
      "\n",
      "[16 17 18 19]\n",
      "\n",
      "[[ 4  5  6  7]\n",
      " [16 17 18 19]]\n"
     ]
    }
   ],
   "source": [
    "#accessing element (indexing):-\n",
    "\n",
    "arr = np.arange(24).reshape(2, 3, 4)\n",
    "print(arr)\n",
    "print()\n",
    "\n",
    "print(arr[0,1,1])  #accessing 1st row 1st column in block 1.\n",
    "\n",
    "print(\"Accessing 1st block\",arr[1]) #accessing 1st block.\n",
    "\n",
    "print()\n",
    "\n",
    "print(arr[1][1])  #accessing the 2nd row f 2nd column.\n",
    "\n",
    "print()\n",
    "\n",
    "print(arr[:,1,:])  #second raw of both blocks"
   ]
  },
  {
   "cell_type": "code",
   "execution_count": 41,
   "id": "5df9ea89-cf9b-4424-bb8a-5a3d60214c67",
   "metadata": {},
   "outputs": [
    {
     "name": "stdout",
     "output_type": "stream",
     "text": [
      "[2 3 4 5 9 8 7 6 6 7 8 9]\n",
      "slicing from 2 to 5 -> [4 5 9]\n",
      "last 3 elements-> [7 8 9]\n",
      "resverse--> [9 8 7 6 6 7 8 9 5 4 3 2]\n"
     ]
    }
   ],
   "source": [
    "# slicing in the elements:-\n",
    "\n",
    "x=([2,3,4,5,9,8,7,6,6,7,8,9])\n",
    "var=np.array(x)\n",
    "print(var)\n",
    "\n",
    "print(\"slicing from 2 to 5 ->\",var[2:5])\n",
    "\n",
    "print(\"last 3 elements->\",var[-3:])\n",
    "\n",
    "print(\"resverse-->\",var[::-1])"
   ]
  },
  {
   "cell_type": "code",
   "execution_count": 43,
   "id": "6a5dbb4a-542e-4e6f-b0a9-87e71f1d12cb",
   "metadata": {},
   "outputs": [],
   "source": [
    "#Arithmetic operations in NumPy :-"
   ]
  },
  {
   "cell_type": "code",
   "execution_count": 56,
   "id": "27f4c225-a1c7-4cb3-a1b2-5e499d5457cd",
   "metadata": {},
   "outputs": [
    {
     "name": "stdout",
     "output_type": "stream",
     "text": [
      "[45600  5409 32450 87690 34591]\n",
      "adding 1325--> [46925  6734 33775 89015 35916]\n",
      "\n",
      "subtract by 1325--> [44275  4084 31125 86365 33266]\n",
      "\n",
      "multiply by 1325--> [ 60420000   7166925  42996250 116189250  45833075]\n",
      "\n",
      "division by 1325--> [34.41509434  4.08226415 24.49056604 66.18113208 26.10641509]\n"
     ]
    }
   ],
   "source": [
    "# into existing array-\n",
    "\n",
    "# addition-\n",
    "x=np.array([45600,5409,32450,87690,34591])\n",
    "print(x)\n",
    "print(\"adding 1325-->\",x + 1325)        #adding 1325 into existing array.(it adds in each element).\n",
    "\n",
    "print()\n",
    "\n",
    "#Subtraction-\n",
    "\n",
    "print(\"subtract by 1325-->\",x-1325)\n",
    "\n",
    "print()\n",
    "\n",
    "#multiplication-\n",
    "\n",
    "print(\"multiply by 1325-->\",x*1325)\n",
    "\n",
    "print()\n",
    "\n",
    "#division-\n",
    "\n",
    "print(\"division by 1325-->\",x/1325)"
   ]
  },
  {
   "cell_type": "code",
   "execution_count": 62,
   "id": "bd1ec179-0d35-46e1-8cc7-3abaaebdba96",
   "metadata": {},
   "outputs": [
    {
     "name": "stdout",
     "output_type": "stream",
     "text": [
      "Addition--> [ 266  121  579 1641 1016  863]\n",
      "Subtraction--> [-220  -31  509  111 -958  667]\n",
      "Division--> [ 0.09465021  0.59210526 15.54285714  1.14509804  0.02938197  7.80612245]\n",
      "Multiplication--> [  5589   3420  19040 670140  28623  74970]\n"
     ]
    }
   ],
   "source": [
    "# individually :-\n",
    "\n",
    "#addition-\n",
    "x=np.array([23,45,544,876,29,765])\n",
    "y=np.array([243,76,35,765,987,98])\n",
    "print(\"Addition-->\",x+y)                 #add elements\n",
    "\n",
    "# subtraction-\n",
    "x=np.array([23,45,544,876,29,765])\n",
    "y=np.array([243,76,35,765,987,98])\n",
    "print(\"Subtraction-->\",x-y)             #subtract elements \n",
    "\n",
    "#division-\n",
    "x=np.array([23,45,544,876,29,765])\n",
    "y=np.array([243,76,35,765,987,98])\n",
    "print(\"Division-->\",x/y)                #divisible elements\n",
    "\n",
    "#multiplication-\n",
    "x=np.array([23,45,544,876,29,765])\n",
    "y=np.array([243,76,35,765,987,98])\n",
    "print(\"Multiplication-->\",x*y)          #multiply elements"
   ]
  },
  {
   "cell_type": "code",
   "execution_count": 69,
   "id": "f36588d6-c667-4ce5-b648-720bc470dae2",
   "metadata": {},
   "outputs": [
    {
     "name": "stdout",
     "output_type": "stream",
     "text": [
      "[[11 22 33]\n",
      " [14 25 36]]\n",
      "\n",
      "[[ 2  6 12]\n",
      " [ 8 15 24]]\n"
     ]
    }
   ],
   "source": [
    "###Broadcasting In NumPy###:-\n",
    "\n",
    "\n",
    "# Broadcasting allows NumPy to perform arithmetic operations on arrays of different shapes in a way that avoids explicit copying of data.\n",
    "\n",
    "a = np.array([[1, 2, 3],[4, 5, 6]])\n",
    "b = np.array([10, 20, 30])\n",
    "\n",
    "result = a + b\n",
    "print(result)\n",
    "\n",
    "print()\n",
    "matrix2=np.array([[12,23,21],[23,11,41]])\n",
    "row2=np.array([2,3,4])\n",
    "result=matrix*row2\n",
    "\n",
    "print(result)\n",
    "\n",
    "\n",
    "#broadcasting error-\n",
    "\n",
    "# x=np.array([1,2,3,4])\n",
    "# y=np.array([5,6,7,8,9])         \n",
    "# print(x+y)                      \n",
    "\n",
    "# this throw an error because no. of elements are not same."
   ]
  },
  {
   "cell_type": "code",
   "execution_count": 112,
   "id": "5cbae3f1-4673-4d7a-89ac-a24609c218d0",
   "metadata": {},
   "outputs": [
    {
     "name": "stdout",
     "output_type": "stream",
     "text": [
      "[[30 64 24 30 73 74 11 32]\n",
      " [40 73 83 50  8 46 60  4]\n",
      " [61  1  7 44 59 43 30 37]\n",
      " [32 53 60 82 46 94 95 88]]\n",
      "\n",
      "Maxium values in rows of arr is --> [74 83 61 95]\n",
      "Minimum values in rows of arr is --> [11  4  1 32]\n",
      "Maximum values in column of arr is --> [61 73 83 82 73 94 95 88]\n",
      "Minimum values in column of arr is --> [30  1  7 30  8 43 11  4]\n",
      "821308797669605376\n"
     ]
    }
   ],
   "source": [
    "#Using Max/Min/Dot/sum:-\n",
    "\n",
    "\n",
    "#Max/Min/dot/sum:-\n",
    "arr=np.random.randint(1,100,(4,8))       #using random function\n",
    "arr\n",
    "print(arr)\n",
    "arr.size               #size of arr\n",
    "maximum_row=np.max(arr,axis=1) \n",
    "minimum_row=np.min(arr,axis=1) \n",
    "maximum_column=np.max(arr,axis=0)\n",
    "minimum_column=np.min(arr,axis=0)\n",
    "\n",
    "print()\n",
    "\n",
    "print(\"Maxium values in rows of arr is -->\",maximum_row)           #max values in row\n",
    "print(\"Minimum values in rows of arr is -->\",minimum_row)           #max values in row\n",
    "print(\"Maximum values in column of arr is -->\", maximum_column)\n",
    "print(\"Minimum values in column of arr is -->\", minimum_column)\n",
    "\n",
    "\n",
    "dot=np.prod(arr)\n",
    "print(dot)"
   ]
  },
  {
   "cell_type": "code",
   "execution_count": 117,
   "id": "472942ae-4446-4e65-90f3-b5c680d0d18d",
   "metadata": {},
   "outputs": [
    {
     "name": "stdout",
     "output_type": "stream",
     "text": [
      "[400 488 328]\n"
     ]
    }
   ],
   "source": [
    "#dot-product-\n",
    "\n",
    "matrix=np.array([[23,34,22,32],[23,45,33,21],[22,23,21,13]])\n",
    "vector=np.array([4,2,8,2])\n",
    "result=np.dot(matrix,vector)\n",
    "print(result)"
   ]
  },
  {
   "cell_type": "code",
   "execution_count": null,
   "id": "46b1d18d-7e7b-45cf-a43b-ba212e6c48a8",
   "metadata": {},
   "outputs": [],
   "source": []
  },
  {
   "cell_type": "code",
   "execution_count": null,
   "id": "008ed547-7953-449c-9331-fa855f7ad5cf",
   "metadata": {},
   "outputs": [],
   "source": []
  },
  {
   "cell_type": "code",
   "execution_count": null,
   "id": "9a3e2b3d-9348-4d7d-bb2d-4dff558e595a",
   "metadata": {},
   "outputs": [],
   "source": []
  }
 ],
 "metadata": {
  "kernelspec": {
   "display_name": "Python 3 (ipykernel)",
   "language": "python",
   "name": "python3"
  },
  "language_info": {
   "codemirror_mode": {
    "name": "ipython",
    "version": 3
   },
   "file_extension": ".py",
   "mimetype": "text/x-python",
   "name": "python",
   "nbconvert_exporter": "python",
   "pygments_lexer": "ipython3",
   "version": "3.13.3"
  }
 },
 "nbformat": 4,
 "nbformat_minor": 5
}
