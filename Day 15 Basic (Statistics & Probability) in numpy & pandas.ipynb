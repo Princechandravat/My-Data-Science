{
 "cells": [
  {
   "cell_type": "markdown",
   "id": "b65489ad-24a7-4ea8-b298-c955a0a6a8f2",
   "metadata": {},
   "source": [
    "# Day 15 Basic (Statistics & Probability)-"
   ]
  },
  {
   "cell_type": "code",
   "execution_count": 89,
   "id": "833e2962-5920-4252-bfe8-fcbce7e7c504",
   "metadata": {},
   "outputs": [],
   "source": [
    "import numpy as np\n",
    "import pandas as pd\n",
    "import matplotlib.pyplot as plt"
   ]
  },
  {
   "cell_type": "markdown",
   "id": "e8132733-9eec-4fae-b42e-54e60323cc84",
   "metadata": {},
   "source": [
    "#Statistics (Descriptive)-\n",
    "\n",
    "Numpy-\n",
    "numpy.mean()\n",
    "numpy.median()\n",
    "numpy.var()\n",
    "numpy.std()\n",
    "\n",
    "Pandas- \n",
    "df.mean(),\n",
    "df.median() \n",
    "df.var()\n",
    "df.std() \n",
    "df.mode()"
   ]
  },
  {
   "cell_type": "code",
   "execution_count": 41,
   "id": "05e51048-1c0a-4340-90a2-53f90660f332",
   "metadata": {},
   "outputs": [
    {
     "data": {
      "text/html": [
       "<div>\n",
       "<style scoped>\n",
       "    .dataframe tbody tr th:only-of-type {\n",
       "        vertical-align: middle;\n",
       "    }\n",
       "\n",
       "    .dataframe tbody tr th {\n",
       "        vertical-align: top;\n",
       "    }\n",
       "\n",
       "    .dataframe thead th {\n",
       "        text-align: right;\n",
       "    }\n",
       "</style>\n",
       "<table border=\"1\" class=\"dataframe\">\n",
       "  <thead>\n",
       "    <tr style=\"text-align: right;\">\n",
       "      <th></th>\n",
       "      <th>Series_Title</th>\n",
       "      <th>Released_Year</th>\n",
       "      <th>Runtime</th>\n",
       "      <th>Genre</th>\n",
       "      <th>IMDB_Rating</th>\n",
       "      <th>Director</th>\n",
       "      <th>Star1</th>\n",
       "      <th>No_of_Votes</th>\n",
       "      <th>Gross</th>\n",
       "      <th>Metascore</th>\n",
       "    </tr>\n",
       "  </thead>\n",
       "  <tbody>\n",
       "    <tr>\n",
       "      <th>0</th>\n",
       "      <td>The Shawshank Redemption</td>\n",
       "      <td>1994</td>\n",
       "      <td>142</td>\n",
       "      <td>Drama</td>\n",
       "      <td>9.3</td>\n",
       "      <td>Frank Darabont</td>\n",
       "      <td>Tim Robbins</td>\n",
       "      <td>2343110</td>\n",
       "      <td>28341469.0</td>\n",
       "      <td>80.0</td>\n",
       "    </tr>\n",
       "    <tr>\n",
       "      <th>1</th>\n",
       "      <td>The Godfather</td>\n",
       "      <td>1972</td>\n",
       "      <td>175</td>\n",
       "      <td>Crime</td>\n",
       "      <td>9.2</td>\n",
       "      <td>Francis Ford Coppola</td>\n",
       "      <td>Marlon Brando</td>\n",
       "      <td>1620367</td>\n",
       "      <td>134966411.0</td>\n",
       "      <td>100.0</td>\n",
       "    </tr>\n",
       "    <tr>\n",
       "      <th>2</th>\n",
       "      <td>The Dark Knight</td>\n",
       "      <td>2008</td>\n",
       "      <td>152</td>\n",
       "      <td>Action</td>\n",
       "      <td>9.0</td>\n",
       "      <td>Christopher Nolan</td>\n",
       "      <td>Christian Bale</td>\n",
       "      <td>2303232</td>\n",
       "      <td>534858444.0</td>\n",
       "      <td>84.0</td>\n",
       "    </tr>\n",
       "    <tr>\n",
       "      <th>3</th>\n",
       "      <td>The Godfather: Part II</td>\n",
       "      <td>1974</td>\n",
       "      <td>202</td>\n",
       "      <td>Crime</td>\n",
       "      <td>9.0</td>\n",
       "      <td>Francis Ford Coppola</td>\n",
       "      <td>Al Pacino</td>\n",
       "      <td>1129952</td>\n",
       "      <td>57300000.0</td>\n",
       "      <td>90.0</td>\n",
       "    </tr>\n",
       "    <tr>\n",
       "      <th>4</th>\n",
       "      <td>12 Angry Men</td>\n",
       "      <td>1957</td>\n",
       "      <td>96</td>\n",
       "      <td>Crime</td>\n",
       "      <td>9.0</td>\n",
       "      <td>Sidney Lumet</td>\n",
       "      <td>Henry Fonda</td>\n",
       "      <td>689845</td>\n",
       "      <td>4360000.0</td>\n",
       "      <td>96.0</td>\n",
       "    </tr>\n",
       "  </tbody>\n",
       "</table>\n",
       "</div>"
      ],
      "text/plain": [
       "               Series_Title Released_Year  Runtime   Genre  IMDB_Rating  \\\n",
       "0  The Shawshank Redemption          1994      142   Drama          9.3   \n",
       "1             The Godfather          1972      175   Crime          9.2   \n",
       "2           The Dark Knight          2008      152  Action          9.0   \n",
       "3    The Godfather: Part II          1974      202   Crime          9.0   \n",
       "4              12 Angry Men          1957       96   Crime          9.0   \n",
       "\n",
       "               Director           Star1  No_of_Votes        Gross  Metascore  \n",
       "0        Frank Darabont     Tim Robbins      2343110   28341469.0       80.0  \n",
       "1  Francis Ford Coppola   Marlon Brando      1620367  134966411.0      100.0  \n",
       "2     Christopher Nolan  Christian Bale      2303232  534858444.0       84.0  \n",
       "3  Francis Ford Coppola       Al Pacino      1129952   57300000.0       90.0  \n",
       "4          Sidney Lumet     Henry Fonda       689845    4360000.0       96.0  "
      ]
     },
     "execution_count": 41,
     "metadata": {},
     "output_type": "execute_result"
    }
   ],
   "source": [
    "movies=pd.read_csv(\"C:\\\\Users\\\\Prince Chandravat\\\\Downloads\\\\imdb-top-1000.csv\")\n",
    "movies.head()"
   ]
  },
  {
   "cell_type": "code",
   "execution_count": 43,
   "id": "52eb6ed0-593c-411a-9231-e418d4c6ac7d",
   "metadata": {},
   "outputs": [
    {
     "data": {
      "text/plain": [
       "np.float64(122.891)"
      ]
     },
     "execution_count": 43,
     "metadata": {},
     "output_type": "execute_result"
    }
   ],
   "source": [
    "#NumPy-\n",
    "\n",
    "#Mean-  (Average of Amount)\n",
    "\n",
    "movies['Runtime'].mean()"
   ]
  },
  {
   "cell_type": "code",
   "execution_count": 60,
   "id": "922f2b1e-29d2-4c40-88c2-dc2778a4e2cf",
   "metadata": {},
   "outputs": [
    {
     "data": {
      "text/plain": [
       "np.float64(19.0)"
      ]
     },
     "execution_count": 60,
     "metadata": {},
     "output_type": "execute_result"
    }
   ],
   "source": [
    "#Mean-\n",
    "\n",
    "x=np.array([18,19,19,19,20])\n",
    "x.mean()"
   ]
  },
  {
   "cell_type": "code",
   "execution_count": 57,
   "id": "70743b72-1107-475f-afa7-e2c928db9e5a",
   "metadata": {},
   "outputs": [
    {
     "data": {
      "text/plain": [
       "np.float64(119.0)"
      ]
     },
     "execution_count": 57,
     "metadata": {},
     "output_type": "execute_result"
    }
   ],
   "source": [
    "#Median-\n",
    "\n",
    "x=movies['Runtime']  #median of Runtime\n",
    "x\n",
    "np.median(x)"
   ]
  },
  {
   "cell_type": "code",
   "execution_count": 58,
   "id": "b3ac176d-df1f-471d-90e0-82c6e2091310",
   "metadata": {},
   "outputs": [
    {
     "data": {
      "text/plain": [
       "np.float64(788.465119)"
      ]
     },
     "execution_count": 58,
     "metadata": {},
     "output_type": "execute_result"
    }
   ],
   "source": [
    "#Varience-\n",
    "\n",
    "np.var(x)  "
   ]
  },
  {
   "cell_type": "code",
   "execution_count": 63,
   "id": "a5938ae6-0dcd-4026-a26e-91e0c9bc3fc3",
   "metadata": {},
   "outputs": [
    {
     "data": {
      "text/plain": [
       "np.float64(0.6324555320336759)"
      ]
     },
     "execution_count": 63,
     "metadata": {},
     "output_type": "execute_result"
    }
   ],
   "source": [
    "#Standard deviation-\n",
    "np.std(x)"
   ]
  },
  {
   "cell_type": "code",
   "execution_count": 65,
   "id": "1c293fae-bdc6-41f2-9637-9101c49b6c00",
   "metadata": {},
   "outputs": [],
   "source": [
    "#In Pandas-"
   ]
  },
  {
   "cell_type": "code",
   "execution_count": 79,
   "id": "f26df490-52fd-4a05-885a-42b659a1b4d0",
   "metadata": {},
   "outputs": [
    {
     "data": {
      "text/plain": [
       "Runtime    122.891\n",
       "dtype: float64"
      ]
     },
     "execution_count": 79,
     "metadata": {},
     "output_type": "execute_result"
    }
   ],
   "source": [
    "# mean()-\n",
    "\n",
    "runtime=pd.DataFrame(movies['Runtime'])\n",
    "runtime.mean()"
   ]
  },
  {
   "cell_type": "code",
   "execution_count": 80,
   "id": "ce033fd6-a604-4382-8b87-2f6a0eb5a5f5",
   "metadata": {},
   "outputs": [
    {
     "data": {
      "text/html": [
       "<div>\n",
       "<style scoped>\n",
       "    .dataframe tbody tr th:only-of-type {\n",
       "        vertical-align: middle;\n",
       "    }\n",
       "\n",
       "    .dataframe tbody tr th {\n",
       "        vertical-align: top;\n",
       "    }\n",
       "\n",
       "    .dataframe thead th {\n",
       "        text-align: right;\n",
       "    }\n",
       "</style>\n",
       "<table border=\"1\" class=\"dataframe\">\n",
       "  <thead>\n",
       "    <tr style=\"text-align: right;\">\n",
       "      <th></th>\n",
       "      <th>Runtime</th>\n",
       "    </tr>\n",
       "  </thead>\n",
       "  <tbody>\n",
       "    <tr>\n",
       "      <th>0</th>\n",
       "      <td>100</td>\n",
       "    </tr>\n",
       "    <tr>\n",
       "      <th>1</th>\n",
       "      <td>130</td>\n",
       "    </tr>\n",
       "  </tbody>\n",
       "</table>\n",
       "</div>"
      ],
      "text/plain": [
       "   Runtime\n",
       "0      100\n",
       "1      130"
      ]
     },
     "execution_count": 80,
     "metadata": {},
     "output_type": "execute_result"
    }
   ],
   "source": [
    "#mode-\n",
    "\n",
    "runtime.mode()"
   ]
  },
  {
   "cell_type": "code",
   "execution_count": 81,
   "id": "09067117-465c-4aab-a1d1-6ce1a10a6fed",
   "metadata": {},
   "outputs": [
    {
     "data": {
      "text/plain": [
       "Runtime    119.0\n",
       "dtype: float64"
      ]
     },
     "execution_count": 81,
     "metadata": {},
     "output_type": "execute_result"
    }
   ],
   "source": [
    "#median-\n",
    "\n",
    "runtime.median()"
   ]
  },
  {
   "cell_type": "code",
   "execution_count": 82,
   "id": "ec6b364f-4f19-4425-a2ab-36d3cd2c1466",
   "metadata": {},
   "outputs": [
    {
     "data": {
      "text/plain": [
       "Runtime    789.254373\n",
       "dtype: float64"
      ]
     },
     "execution_count": 82,
     "metadata": {},
     "output_type": "execute_result"
    }
   ],
   "source": [
    "#varience-\n",
    "\n",
    "runtime.var()"
   ]
  },
  {
   "cell_type": "code",
   "execution_count": 83,
   "id": "9815a314-51d4-4e47-989b-33b0a65bfa10",
   "metadata": {},
   "outputs": [
    {
     "data": {
      "text/plain": [
       "Runtime    28.093671\n",
       "dtype: float64"
      ]
     },
     "execution_count": 83,
     "metadata": {},
     "output_type": "execute_result"
    }
   ],
   "source": [
    "# standard deviation-\n",
    "\n",
    "runtime.std()"
   ]
  },
  {
   "cell_type": "code",
   "execution_count": 85,
   "id": "a6aab131-462c-42a1-afac-727fcec470e4",
   "metadata": {},
   "outputs": [
    {
     "data": {
      "text/plain": [
       "array([77.71822031, 52.44296621, 57.09024981, 40.35568455, 39.73536386,\n",
       "       43.27545452, 48.6942948 , 33.65176561, 55.59178275, 46.67242558,\n",
       "       45.07045374, 54.1772771 , 45.12306705, 53.12373022, 43.46662502,\n",
       "       49.07941507, 43.07336205, 47.56185677, 55.12863246, 44.87681801,\n",
       "       32.39413036, 52.4506259 , 44.75449261, 67.58224515, 64.83306124,\n",
       "       56.30374266, 55.68017743, 28.23419992, 42.65080094, 38.67654079,\n",
       "       62.12256928, 63.86235066, 40.52124389, 54.99285383, 47.97025843,\n",
       "       37.12597429, 51.66560982, 39.31963317, 47.75272845, 49.57076305,\n",
       "       45.50991581, 50.62625357, 70.35602533, 41.76028319, 61.3464332 ,\n",
       "       53.97418115, 43.24283902, 59.17876372, 49.03029134, 51.81367387,\n",
       "       59.58438295, 48.2486921 , 28.21658797, 50.5147796 , 48.61040149,\n",
       "       50.04506022, 48.83637373, 62.59665355, 43.73631878, 65.86854115,\n",
       "       66.14727948, 47.72966869, 35.25350943, 48.71370074, 55.72894656,\n",
       "       36.80992504, 43.197975  , 56.9749375 , 37.76598998, 41.91559424,\n",
       "       53.62838185, 51.29417774, 50.37193029, 60.95801611, 37.82062459,\n",
       "       43.62532759, 47.99788664, 39.43469523, 61.4880074 , 47.96483231,\n",
       "       50.45118238, 51.45972377, 61.82476768, 76.11363628, 53.57612434,\n",
       "       55.61443564, 42.75536037, 51.81145305, 54.49976361, 44.01952014,\n",
       "       39.34903259, 43.69954641, 46.24597606, 60.39383409, 47.39344639,\n",
       "       46.3957276 , 39.63955574, 54.40824627, 46.62258136, 50.98183342,\n",
       "       51.04083342, 45.16038473, 62.5432819 , 58.60712218, 42.20918568,\n",
       "       39.7063402 , 47.83292635, 45.34600702, 44.94967166, 69.19173185,\n",
       "       42.42698845, 41.45768471, 83.41645508, 54.85046671, 59.876133  ,\n",
       "       62.03966253, 47.74601076, 52.1231314 , 69.65878249, 43.00663736,\n",
       "       40.61608495, 34.42337463, 60.54664514, 58.08206665, 33.7762336 ,\n",
       "       53.47701478, 46.32717911, 61.95386162, 60.67515375, 55.65562645,\n",
       "       54.21346236, 47.9826706 , 53.38205968, 51.11582066, 26.3212539 ,\n",
       "       56.7070075 , 46.83722219, 49.00614842, 58.76471917, 46.48905551,\n",
       "       34.36954756, 69.04121335, 45.06415571, 51.45558816, 57.18031276,\n",
       "       43.9293426 , 78.67100734, 35.53703152, 60.05474493, 64.81106979,\n",
       "       64.81184271, 46.45812119, 40.84766685, 55.32595003, 45.46459034,\n",
       "       43.98354085, 47.70555222, 44.76073319, 40.88936202, 29.86103102,\n",
       "       45.32005822, 42.07186034, 62.56213138, 45.87973326, 63.41219319,\n",
       "       66.80309786, 45.63010113, 56.36127498, 63.48599458, 29.6271259 ,\n",
       "       61.51213785, 51.7387976 , 44.81631821, 48.00044842, 44.08666853,\n",
       "       52.55680242, 59.70327374, 72.25079263, 57.69821248, 52.13317352,\n",
       "       59.50154967, 64.15078126, 55.71967504, 46.50369514, 55.78220819,\n",
       "       48.64002353, 51.3171535 , 33.01220571, 53.40550974, 47.43689763,\n",
       "       39.98315865, 54.50670606, 56.48278482, 47.54431789, 35.89679269,\n",
       "       40.78059796, 51.21906826, 48.41500391, 46.82023221, 49.83098611,\n",
       "       36.9489199 , 53.90338028, 29.3212808 , 47.65902063, 50.10085989,\n",
       "       60.12815173, 29.81210944, 48.04373813, 25.40819038, 53.29666732,\n",
       "       38.82340718, 41.55402924, 45.51273291, 64.36889281, 55.48512882,\n",
       "       62.00572144, 44.60408814, 42.64641041, 64.73225323, 38.86338777,\n",
       "       45.16736198, 45.67173684, 58.27084225, 75.24308834, 40.24342987,\n",
       "       36.74597864, 60.52865582, 44.46178787, 52.78295094, 45.94761516,\n",
       "       43.57035678, 60.56269713, 53.19021234, 53.77590856, 49.60280487,\n",
       "       58.94207709, 54.50195923, 59.60191224, 50.79535007, 58.72785331,\n",
       "       58.05185768, 47.0058025 , 55.08267915, 55.96737016, 45.81856141,\n",
       "       44.46786742, 45.88558692, 51.27481649, 66.98072982, 35.99127591,\n",
       "       43.63750593, 48.71873992, 56.1906252 , 51.18908949, 53.74788362,\n",
       "       61.06467214, 47.52574737, 51.73442366, 31.03393417, 50.38978689,\n",
       "       54.4026542 , 52.7350787 , 44.60139943, 55.59871425, 59.66984228,\n",
       "       55.24932065, 64.45985438, 50.72175321, 35.96136292, 58.02858091,\n",
       "       40.59070162, 52.73706106, 46.68354858, 49.82303124, 57.22774506,\n",
       "       36.64198383, 59.97680681, 39.30139096, 28.94853111, 44.225325  ,\n",
       "       69.64864669, 35.63273685, 51.71746231, 56.32407272, 43.99892235,\n",
       "       41.51542462, 62.21735303, 57.90566504, 45.0688932 , 50.90950915,\n",
       "       54.5178863 , 50.68462026, 36.28755528, 37.30942111, 51.21962078,\n",
       "       58.82494702, 49.18053716, 52.45697173, 52.52754559, 42.98896872,\n",
       "       51.28339674, 59.02226237, 56.36645877, 54.26108431, 63.66387836,\n",
       "       57.3438207 , 57.21814699, 51.08043889, 50.08216433, 55.999     ,\n",
       "       43.62241384, 63.05776896, 56.63762397, 49.91651171, 65.96666412,\n",
       "       46.86623892, 55.38350078, 51.67251947, 41.2834511 , 45.63362835,\n",
       "       58.01466316, 34.48604875, 31.24565011, 50.99142112, 53.90380627,\n",
       "       46.78127464, 59.02338919, 58.76035068, 39.32871573, 34.50245309,\n",
       "       52.5731806 , 48.45702339, 59.05182862, 47.63674461, 34.01482258,\n",
       "       56.62135234, 63.34044012, 53.64966715, 48.27379971, 48.96362166,\n",
       "       65.94851682, 45.93621759, 46.93952633, 47.54780213, 49.98106176,\n",
       "       48.49555213, 44.98608381, 35.5137426 , 55.19130484, 42.36855356,\n",
       "       45.39795969, 55.56845092, 46.1816706 , 55.33869493, 38.76935859,\n",
       "       59.00292563, 39.95456788, 24.07005017, 47.72352909, 39.7457156 ,\n",
       "       51.67609817, 44.33284334, 33.87749872, 42.41575479, 54.80590019,\n",
       "       41.41015184, 68.2778679 , 46.66000682, 63.37994488, 44.12154297,\n",
       "       52.7382021 , 53.09367225, 50.59527312, 58.17454999, 48.63853419,\n",
       "       50.33377112, 21.33667286, 66.54575268, 49.42574155, 32.05582132,\n",
       "       56.26107666, 65.71079496, 47.72888416, 48.50842128, 55.09945882,\n",
       "       46.78302542, 37.46576432, 46.10641335, 45.80388622, 40.40412087,\n",
       "       26.68400812, 59.79820904, 53.79759714, 33.32479891, 54.50955252,\n",
       "       58.52210604, 56.9657883 , 53.9218617 , 19.30487241, 46.34561827,\n",
       "       43.398927  , 60.33983711, 34.25942461, 45.37642481, 56.9052692 ,\n",
       "       49.70620311, 51.79771284, 66.69303999, 65.26029141, 28.84567196,\n",
       "       49.91837742, 57.92998694, 40.77282024, 47.98209619, 44.6498464 ,\n",
       "       48.11980805, 43.99085245, 44.86520471, 58.5126592 , 38.17202279,\n",
       "       54.18722335, 34.20690606, 56.6671635 , 56.36822983, 57.98553114,\n",
       "       54.12377796, 36.00749688, 35.18642874, 41.81744231, 47.15964633,\n",
       "       46.26798596, 30.67377163, 44.35453295, 40.79714461, 53.6540835 ,\n",
       "       41.65628279, 54.80647775, 60.76614283, 50.96793208, 44.17514794,\n",
       "       57.60479205, 47.96057717, 53.94056373, 36.47893328, 32.8005467 ,\n",
       "       39.30417427, 58.2158551 , 58.2435478 , 31.93673565, 61.53621948,\n",
       "       54.74351281, 58.56206049, 61.20604567, 58.76231984, 47.21521336,\n",
       "       29.23543574, 40.30309866, 44.20877167, 37.49879507, 32.30169523,\n",
       "       58.93597897, 47.54076957, 57.14442903, 68.99673744, 56.98214872,\n",
       "       62.66014449, 43.38791648, 22.27546126, 61.10666546, 53.39358145,\n",
       "       43.34949055, 47.62664578, 60.00267764, 38.79419225, 67.60663423,\n",
       "       49.63235844, 62.90424591, 56.97428472, 32.45838712, 39.55600518,\n",
       "       43.44539895, 61.93225761, 44.17503159, 46.44645927, 30.25941346,\n",
       "       40.2526355 , 38.20720182, 48.17541129, 49.72706063, 51.258825  ,\n",
       "       61.08515417, 57.72272232, 58.02281851, 36.26305297, 59.79154758,\n",
       "       29.23298817, 32.96504775, 54.95559088, 52.74044301, 41.51913999,\n",
       "       40.60131375, 48.80556537, 47.76424429, 45.76464042, 32.27731705,\n",
       "       43.81195185, 56.01683891, 65.77316223, 65.82280596, 44.23756027,\n",
       "       52.34166069, 44.40636128, 58.54928727, 42.12727819, 39.91744535,\n",
       "       47.24742728, 45.91086405, 51.40881874, 39.85686484, 53.30445222,\n",
       "       32.11258492, 52.77300532, 47.63055437, 67.66089228, 44.48790082,\n",
       "       58.20278198, 47.89908153, 33.29447981, 55.63424024, 50.79107982,\n",
       "       39.78225901, 42.49481251, 36.72431111, 43.22131155, 49.39193752,\n",
       "       51.04701466, 53.5619539 , 41.73018962, 58.21024149, 55.55200121,\n",
       "       34.72134403, 34.26689774, 62.67665686, 30.60336132, 57.97683691,\n",
       "       30.64122336, 44.28936302, 51.89220025, 74.04209142, 60.48426012,\n",
       "       67.53581518, 59.96298339, 66.54749382, 69.56572454, 42.84765843,\n",
       "       61.19418714, 65.84210955, 59.3825295 , 54.90329447, 46.65468495,\n",
       "       48.88587931, 47.72794641, 47.64823102, 57.63191634, 79.66776774,\n",
       "       42.3514199 , 43.93158548, 54.39827095, 41.21605025, 46.19062078,\n",
       "       44.34714015, 60.96207976, 59.74897553, 64.04656559, 45.85209823,\n",
       "       48.37480227, 75.59199483, 47.80507787, 48.46634722, 56.97272649,\n",
       "       45.60093714, 51.98296321, 66.87257666, 54.53270909, 54.56459885,\n",
       "       60.86284553, 39.46926969, 63.91160771, 39.09534842, 52.10473821,\n",
       "       46.84667194, 35.57961261, 51.64961351, 62.19891717, 51.11309218,\n",
       "       37.79289494, 62.23085757, 32.62770721, 54.9346999 , 68.26808305,\n",
       "       47.74707926, 56.59980197, 37.12449945, 38.83707339, 47.81830963,\n",
       "       43.88673424, 47.69231669, 59.25133602, 50.67738676, 48.69866302,\n",
       "       61.56071551, 53.10988298, 68.65875089, 58.28341058, 38.4614395 ,\n",
       "       42.32650833, 35.87081753, 66.39154153, 41.71633119, 51.96453691,\n",
       "       38.43660601, 44.57414915, 51.56660227, 58.80778434, 49.84456053,\n",
       "       42.54416676, 54.43146865, 48.48844617, 45.88484635, 76.71062268,\n",
       "       49.13109701, 48.16298683, 39.85847737, 44.65372155, 64.45055687,\n",
       "       54.68676368, 51.01653103, 52.08498736, 42.13456711, 45.12402852,\n",
       "       44.51997334, 41.62990213, 57.13800826, 33.65243275, 29.34867262,\n",
       "       53.46627571, 45.87008995, 51.90978614, 53.42228388, 35.96000873,\n",
       "       60.63345102, 48.66740738, 63.40625671, 61.70572261, 52.89542969,\n",
       "       41.39283051, 40.23031992, 44.75886983, 36.31801281, 44.86432464,\n",
       "       41.67088023, 39.0971796 , 53.23864486, 65.3463539 , 55.90557216,\n",
       "       47.31309963, 39.07686689, 44.6557861 , 54.44055486, 72.64240007,\n",
       "       48.53443756, 53.00877409, 50.90517153, 36.43014736, 37.58267069,\n",
       "       51.88660776, 47.01556489, 67.85049089, 37.16435256, 49.08630754,\n",
       "       43.68106374, 48.34097956, 43.85727959, 32.39835948, 43.19552285,\n",
       "       52.6848326 , 61.0325039 , 47.44861509, 30.62962351, 54.73127512,\n",
       "       27.83821146, 52.81058442, 46.65491507, 59.93541131, 48.28122146,\n",
       "       31.03553935, 59.30830479, 48.10927881, 45.94817697, 54.79770491,\n",
       "       44.70185987, 46.59766619, 58.01038722, 31.76672638, 65.01751147,\n",
       "       42.91876743, 37.91395602, 63.44196618, 57.9677684 , 36.56768362,\n",
       "       49.30283738, 57.0006693 , 50.71125203, 39.19495217, 63.79129198,\n",
       "       40.06257659, 38.53075308, 54.41608608, 43.87400317, 50.82624975,\n",
       "       42.29948845, 65.20968808, 45.19087665, 47.20806102, 68.45535228,\n",
       "       53.04095906, 54.97505371, 53.14445961, 36.89052759, 49.07901545,\n",
       "       51.8472888 , 50.61219297, 52.14511166, 65.42925169, 63.49307378,\n",
       "       24.84956994, 24.75159402, 46.29999894, 39.68560379, 54.09121348,\n",
       "       60.54232532, 45.63754531, 63.77455694, 22.52144202, 49.55982621,\n",
       "       38.25351427, 48.05623032, 55.32579239, 64.48107221, 42.13457734,\n",
       "       44.00495872, 44.53623747, 66.06594767, 56.14486392, 59.66362995,\n",
       "       57.71906661, 48.65395938, 47.04870732, 51.73961952, 44.77801807,\n",
       "       43.00598806, 57.64019039, 49.32965735, 49.91782964, 33.05320539,\n",
       "       46.39517639, 54.147166  , 53.40464672, 47.98967277, 22.18763792,\n",
       "       57.48455681, 44.61628527, 49.79214597, 52.01632501, 36.27907535,\n",
       "       52.64483554, 49.66770841, 53.02520055, 45.74625012, 68.49386044,\n",
       "       45.27716171, 37.95175904, 63.02779416, 50.16707355, 57.35364249,\n",
       "       52.96890806, 49.94747345, 38.45537213, 32.27935864, 50.22368837,\n",
       "       49.40069692, 68.08842866, 50.33862225, 54.30697248, 48.57954654,\n",
       "       45.92615238, 42.85368643, 46.36780993, 49.65621077, 52.46828742,\n",
       "       44.14161285, 57.59398945, 43.32229489, 56.58129719, 56.87805035,\n",
       "       44.83261913, 60.19154632, 50.0802705 , 50.53985857, 43.468897  ,\n",
       "       47.27496492, 61.34394327, 57.17045204, 36.50120254, 41.66940976,\n",
       "       55.55315723, 55.02136793, 53.37842425, 62.96610418, 56.21882136,\n",
       "       49.46504258, 43.85340081, 63.89458621, 54.17229834, 63.6518917 ,\n",
       "       52.19849152, 47.77124982, 62.38739973, 40.52836908, 55.61653779,\n",
       "       44.55005018, 61.69066967, 46.01363438, 54.40461621, 41.88900159,\n",
       "       56.70273631, 37.566917  , 58.52864208, 61.35742796, 57.04428551,\n",
       "       59.39328043, 58.95080496, 41.68946243, 58.57540431, 40.2682579 ,\n",
       "       65.56812664, 37.23598381, 59.50848762, 47.38855944, 38.55680737,\n",
       "       29.53742908, 38.68327647, 62.96616293, 40.29108057, 50.39556537,\n",
       "       57.30716408, 40.30477607, 44.60391735, 61.15016509, 51.16949868,\n",
       "       56.29682311, 73.54527648, 52.09009437, 41.71024265, 32.57542648,\n",
       "       55.802624  , 64.02819691, 54.26866605, 58.43622887, 44.63291284,\n",
       "       47.94278991, 65.59331893, 45.32002902, 57.65281524, 45.10700287,\n",
       "       64.13448186, 57.5464428 , 51.54060873, 40.23728401, 53.0198985 ,\n",
       "       52.73831403, 44.11969829, 47.14859737, 53.02490071, 53.29969367,\n",
       "       39.92565671, 61.21222841, 64.36606478, 39.58314871, 51.1279353 ,\n",
       "       62.0585473 , 41.66921733, 45.1032404 , 43.5849623 , 55.16485399,\n",
       "       47.53634632, 42.02215754, 43.73357209, 49.73325434, 61.02151859,\n",
       "       53.40224716, 45.89776274, 65.48548067, 52.88795163, 47.41390229,\n",
       "       58.78488164, 50.90802204, 51.27054366, 50.61461098, 63.72390243,\n",
       "       64.05444267, 55.24218209, 45.33712628, 53.58517521, 33.52661953,\n",
       "       65.61374326, 49.99488724, 59.97274841, 61.4565194 , 55.40105602,\n",
       "       39.40823962, 36.41830431, 68.70640511, 46.52693213, 62.79992594,\n",
       "       64.70536555, 38.38319802, 47.73574039, 40.70980875, 53.01999222,\n",
       "       41.86754223, 57.17473391, 42.83883924, 35.24284546, 37.11065728,\n",
       "       61.74187846, 46.03279802, 56.11358779, 58.46320746, 55.20638676,\n",
       "       54.22927706, 25.93500202, 48.20159403, 52.11823148, 49.34045187,\n",
       "       61.93985412, 50.20521488, 58.27494127, 53.31969533, 38.16372062,\n",
       "       56.27738104, 41.96962361, 58.01244124, 57.57950924, 56.12202174,\n",
       "       43.03261974, 40.15544438, 49.69143566, 45.32061074, 26.95803515,\n",
       "       61.85683838, 52.45736906, 56.00823633, 39.75417669, 35.56988076,\n",
       "       38.28110435, 24.87353252, 73.92536997, 67.55301831, 46.29684304,\n",
       "       51.82376242, 33.57763808, 53.77601379, 69.82504592, 35.09351042,\n",
       "       40.53424892, 31.74460125, 35.48909562, 48.6253345 , 56.59023819,\n",
       "       55.96201335, 71.80019411, 62.8534244 , 47.57663801, 64.75554376,\n",
       "       55.57265507, 58.71427915, 55.81747227, 60.78259382, 44.66244843,\n",
       "       65.94874036, 58.84046743, 70.73781876, 48.71646467, 40.38553013,\n",
       "       49.68369153, 40.15280175, 59.07693617, 56.51540445, 29.55811741])"
      ]
     },
     "execution_count": 85,
     "metadata": {},
     "output_type": "execute_result"
    }
   ],
   "source": [
    "#Normal distribution-\n",
    "\n",
    "normal_data = np.random.normal(loc=50, scale=10, size=1000)\n",
    "normal_data"
   ]
  },
  {
   "cell_type": "code",
   "execution_count": 90,
   "id": "b3fd21ec-4e15-40f7-a99f-755c3bed0ff6",
   "metadata": {},
   "outputs": [
    {
     "data": {
      "image/png": "[encoded data removed]",
      "text/plain": [
       "<Figure size 640x480 with 1 Axes>"
      ]
     },
     "metadata": {},
     "output_type": "display_data"
    }
   ],
   "source": [
    "data = np.random.normal(loc=50, scale=10, size=1000)\n",
    "plt.hist(data, bins=30, edgecolor='black')\n",
    "plt.title('Normal Distribution')\n",
    "plt.show()\n"
   ]
  },
  {
   "cell_type": "code",
   "execution_count": 91,
   "id": "f50e41dd-9161-49a7-b916-567508742ecd",
   "metadata": {},
   "outputs": [
    {
     "data": {
      "image/png": "[encoded data removed]",
      "text/plain": [
       "<Figure size 800x500 with 1 Axes>"
      ]
     },
     "metadata": {},
     "output_type": "display_data"
    }
   ],
   "source": [
    "#Binomial distributin-\n",
    "\n",
    "plt.figure(figsize=(8,5))\n",
    "plt.hist(normal_data, bins=30, edgecolor='black', color='skyblue')\n",
    "plt.title('Histogram of Normal Distribution')\n",
    "plt.xlabel('Value')\n",
    "plt.ylabel('Frequency')\n",
    "plt.grid(axis='y', linestyle='--', alpha=0.7)\n",
    "plt.show()\n"
   ]
  },
  {
   "cell_type": "code",
   "execution_count": 92,
   "id": "9bca6917-df71-40eb-a5d2-92a83bf08ed6",
   "metadata": {},
   "outputs": [
    {
     "data": {
      "text/plain": [
       "array([ 5,  6,  6,  4,  6,  4,  3,  9,  4,  5,  5,  6,  5,  8,  4,  4,  6,\n",
       "        6,  5,  5,  6,  4,  2,  7,  6,  7,  6,  6,  3,  4,  3,  8,  7,  5,\n",
       "        7,  4,  8,  3,  2,  2,  5,  5,  7,  5,  5,  3,  8,  6,  6,  3,  5,\n",
       "        5,  5,  8,  4,  6,  4,  4,  7,  4,  5,  5,  4,  4,  5,  6,  4,  7,\n",
       "        6,  4,  5,  7,  8,  6,  7,  5,  3,  4,  6,  5,  5,  4,  5,  6,  5,\n",
       "        7,  7,  2,  6,  6,  4,  6,  8,  6,  3,  4,  6,  3,  5,  6,  6,  8,\n",
       "        4,  3,  6,  3,  4,  6,  5,  3,  4,  4,  7,  7,  6,  4,  8,  5,  2,\n",
       "        5,  3,  7,  7,  6,  4,  6,  4,  6,  5,  6,  5,  7,  5,  5,  4,  6,\n",
       "        5,  6,  5,  6,  6,  6,  3,  3,  4,  3,  4,  7,  7,  3,  5,  7,  5,\n",
       "        5,  3,  7,  6,  7,  3,  5,  5,  4,  7,  6,  4,  5,  7,  5,  5,  6,\n",
       "        5,  3,  3,  5,  5,  4,  2,  4,  4,  5,  3,  3,  2,  5,  9,  4,  3,\n",
       "        6,  6,  6,  7,  5,  4,  3,  3,  7,  3,  5,  7,  5,  4,  5,  2,  4,\n",
       "        5,  4,  5,  7,  5,  3,  4,  6,  4,  5,  3,  5,  1,  6,  6,  8,  5,\n",
       "        8,  4,  6,  4,  6,  9,  3,  5,  5,  8,  3,  3,  4,  3,  5,  3,  6,\n",
       "        3,  6,  2,  5,  4,  5,  3,  5,  6,  5,  4,  7,  6,  6,  5,  7,  8,\n",
       "        4,  2,  3,  3,  4,  5,  3,  4,  4,  5,  8,  5,  2,  2,  7,  4,  6,\n",
       "        2,  7,  5,  4,  4,  4,  6,  4,  5,  3,  6,  6,  8,  8,  5,  4,  6,\n",
       "        7,  7,  3,  3,  4,  6,  4,  4,  6,  4,  5,  6,  8,  6,  2,  5,  4,\n",
       "        7,  3,  5,  4,  8,  3,  7,  5,  8,  5,  3,  5,  3,  8,  6,  6,  7,\n",
       "        3,  6,  4,  4,  6,  7,  6,  5,  3,  2,  8,  4,  5,  7,  5,  8,  6,\n",
       "        4,  6,  6,  2,  4,  9,  7,  4,  4,  7,  7,  7,  3,  6,  1,  4,  6,\n",
       "        7,  5,  5,  5,  7,  5,  8,  5,  6,  6,  5,  6,  7,  3,  7,  3,  6,\n",
       "        6,  4,  6,  4,  5,  2,  6,  5,  6,  5,  6,  5,  3,  2,  5,  9,  3,\n",
       "        3,  4,  4,  7,  6,  5,  6,  6,  3,  8,  4,  6,  5,  6,  4,  6,  5,\n",
       "        6,  7,  6,  3,  4,  8,  6,  2,  3,  6,  3,  6,  8,  5,  5,  4,  7,\n",
       "        5,  8,  5,  6,  3,  7,  6,  2,  5,  5,  6,  8,  7,  5,  7,  4,  7,\n",
       "        7,  7,  6,  7,  3,  5,  3,  3,  6,  6,  4,  6,  4,  4,  5,  4,  4,\n",
       "        5,  5,  2,  8,  2,  8, 10,  2,  4,  5,  6,  5,  6,  7,  7,  6,  7,\n",
       "        4,  7,  7,  4,  6,  5,  6,  6,  3,  5,  1,  6,  5,  5,  5,  8,  4,\n",
       "        5,  1,  5,  4,  7,  5,  5,  3,  4,  5,  3,  5,  4,  4,  7,  5,  3,\n",
       "        4,  6,  4,  6,  5,  6,  6,  7,  6,  8,  8,  4,  5,  3,  6,  8,  5,\n",
       "        5,  3,  4,  4,  3,  4,  2,  7,  4,  6,  6,  4,  5,  5,  6,  7,  4,\n",
       "        5,  3,  8,  7,  7,  5,  4,  8,  9,  6,  4,  4,  2,  3,  2,  6,  5,\n",
       "        4,  7,  4,  4,  3,  6,  5,  2,  4,  5,  4,  6,  3,  8,  7,  4,  7,\n",
       "        6,  7,  2,  6,  6,  8,  5,  6,  6,  5,  5,  2,  5,  6,  5,  4,  6,\n",
       "        5,  3,  6,  3,  2,  5,  5,  5,  5,  6,  4,  8,  5,  6,  4,  5,  5,\n",
       "        4,  5,  6,  6,  4,  6,  6,  5,  3,  4,  6,  3,  2,  4,  6,  6,  5,\n",
       "        5,  7,  2,  2,  4,  7,  5,  4,  5,  6,  6,  9,  2,  6,  5,  4,  3,\n",
       "        7,  7,  6,  3,  3,  4,  3,  7,  5,  4,  4,  6,  4,  4,  7,  3,  4,\n",
       "        5,  5,  7,  3,  4,  7,  4,  5,  6,  7,  5,  6,  2,  6,  5,  6,  8,\n",
       "        7,  6,  4,  5,  6,  3,  5,  6,  7,  2,  6,  6,  6,  4,  4,  4,  4,\n",
       "        5,  6,  3,  4,  5,  7,  7,  5,  5,  5,  3,  3,  5,  6,  5,  2,  2,\n",
       "        4,  7,  5,  6,  6,  7,  5,  5,  6,  5,  4,  3,  5,  3,  4,  3,  3,\n",
       "        3,  7,  2,  5,  5,  5,  4,  7,  5,  4,  3,  8,  5,  5,  6, 10,  3,\n",
       "        8,  3,  5,  5,  6,  3,  6,  6,  8,  6,  7,  4,  6,  6,  5,  4,  2,\n",
       "        6,  6,  5,  6,  5,  6,  7,  4,  4,  5,  5,  5,  6,  5,  7,  4,  5,\n",
       "        5,  4,  4,  4,  4,  3,  4,  5,  3,  5,  5,  6,  6,  3,  6,  3,  5,\n",
       "        7,  4,  6,  6,  7,  4,  8,  7,  5,  7,  8,  4,  4,  4,  5,  2,  5,\n",
       "        5,  7,  2,  8,  6,  5,  4,  5,  7,  6,  6,  5,  5,  7,  5,  7,  6,\n",
       "        5,  4,  4,  6,  7,  3,  5,  4,  4,  5,  2,  6,  5,  3,  7,  8,  4,\n",
       "        5,  3,  5,  7,  4,  6,  8,  3,  5,  8,  6,  2,  5,  9,  6,  7,  5,\n",
       "        4,  4,  8,  6,  7,  3,  6,  4,  3,  3,  5,  8,  6,  5,  6,  6,  4,\n",
       "        6,  7,  4,  9,  7,  4,  5,  5,  5,  5,  8,  7,  6,  6,  6,  5,  4,\n",
       "        7,  6,  6,  4,  5,  4,  7,  3,  8,  3,  5,  6,  7,  6,  3,  8,  5,\n",
       "        5,  3,  6,  4,  5,  7,  7,  4,  5,  5,  8,  6,  2,  3,  5,  6,  3,\n",
       "        4,  5,  4,  7,  3,  3,  3,  4,  5,  6,  5,  3,  4,  4,  6,  5,  6,\n",
       "        6,  4,  7,  5,  8,  5,  5,  4,  7,  5,  7,  3,  8,  6,  4,  6,  6,\n",
       "        4,  4,  6,  7,  4,  5,  3,  5,  4,  5,  8,  5,  5,  5,  6,  4,  7,\n",
       "        4,  5,  5,  6,  4,  5,  4,  4,  7,  2,  7,  5,  6,  4],\n",
       "      dtype=int32)"
      ]
     },
     "execution_count": 92,
     "metadata": {},
     "output_type": "execute_result"
    }
   ],
   "source": [
    "# Binomial distribution data\n",
    "binomial_data = np.random.binomial(n=10, p=0.5, size=1000)\n",
    "binomial_data"
   ]
  },
  {
   "cell_type": "code",
   "execution_count": null,
   "id": "51c96f73-5ac2-4b4c-89d8-6acf4ea43035",
   "metadata": {},
   "outputs": [],
   "source": []
  }
 ],
 "metadata": {
  "kernelspec": {
   "display_name": "Python 3 (ipykernel)",
   "language": "python",
   "name": "python3"
  },
  "language_info": {
   "codemirror_mode": {
    "name": "ipython",
    "version": 3
   },
   "file_extension": ".py",
   "mimetype": "text/x-python",
   "name": "python",
   "nbconvert_exporter": "python",
   "pygments_lexer": "ipython3",
   "version": "3.13.3"
  }
 },
 "nbformat": 4,
 "nbformat_minor": 5
}
