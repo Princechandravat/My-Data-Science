{
 "cells": [
  {
   "cell_type": "markdown",
   "id": "c4c0a331-bc30-4cc2-a377-e6a7d76f16cd",
   "metadata": {},
   "source": [
    "\n",
    "#  Notebook “Day 9 – Pandas basics (Series & dataframes) -\n",
    "#using dictionary & list-"
   ]
  },
  {
   "cell_type": "markdown",
   "id": "704c7771-a2ef-4411-b55c-e07518e5e02d",
   "metadata": {},
   "source": [
    " # Series:-"
   ]
  },
  {
   "cell_type": "code",
   "execution_count": 2,
   "id": "b43f1d17-60c6-46dc-873d-8878fc3cd638",
   "metadata": {},
   "outputs": [],
   "source": [
    "import pandas as pd   #importing pandas- ('pd') means name we can use it as nickname it is known as Alias."
   ]
  },
  {
   "cell_type": "code",
   "execution_count": 11,
   "id": "bc3fe5cc-f9cd-4b2a-8f03-8c1ada2752ba",
   "metadata": {},
   "outputs": [
    {
     "name": "stdout",
     "output_type": "stream",
     "text": [
      "0    12\n",
      "1    45\n",
      "2    43\n",
      "3    36\n",
      "dtype: int64\n"
     ]
    }
   ],
   "source": [
    "#Mys_1st_pandas-code-\n",
    "#As a list-\n",
    "\n",
    "lst=[12,45,43,36]\n",
    "var=pd.Series(lst)\n",
    "print(var)"
   ]
  },
  {
   "cell_type": "code",
   "execution_count": 50,
   "id": "0925214d-b739-49fa-ad55-6fd85545af1a",
   "metadata": {},
   "outputs": [
    {
     "name": "stdout",
     "output_type": "stream",
     "text": [
      "Name             Prince\n",
      "Course              Bca\n",
      "Goal       Data Science\n",
      "Roll no          231205\n",
      "dtype: object\n",
      "<class 'pandas.core.series.Series'>\n"
     ]
    }
   ],
   "source": [
    "#As a Dictionary\n",
    "\n",
    "dict={'Name':'Prince','Course':'Bca','Goal':'Data Science','Roll no':231205}\n",
    "var2=pd.Series(dict)\n",
    "print(var2)\n",
    "print(type(var2))   #type\n",
    "\n",
    "#when int+string then show the type is 'object'."
   ]
  },
  {
   "cell_type": "code",
   "execution_count": 48,
   "id": "10fbd756-9c29-45de-a2fa-827cc12e8a2e",
   "metadata": {},
   "outputs": [
    {
     "name": "stdout",
     "output_type": "stream",
     "text": [
      "0     92\n",
      "1     65\n",
      "2    888\n",
      "3    456\n",
      "4    433\n",
      "5     45\n",
      "dtype: int64\n",
      "<class 'pandas.core.series.Series'>\n",
      "45\n",
      "456\n"
     ]
    }
   ],
   "source": [
    "#As a Dictionary & accessing-\n",
    "\n",
    "marks=pd.Series([92,65,888,456,433,45])\n",
    "print(x)\n",
    "print(type(x))  #type \n",
    "print(x[5])  #Accessing inedex no.5\n",
    "print(x[3])  #Accessing inedex no.3"
   ]
  },
  {
   "cell_type": "code",
   "execution_count": 13,
   "id": "7c71ec7b-11c5-4002-a294-a4f93e6ec165",
   "metadata": {},
   "outputs": [
    {
     "name": "stdout",
     "output_type": "stream",
     "text": [
      "a    2334\n",
      "b    9098\n",
      "c    4598\n",
      "d     872\n",
      "e     643\n",
      "f    3009\n",
      "g    5467\n",
      "h    3349\n",
      "dtype: int64\n",
      "\n",
      "5    378766\n",
      "6     99807\n",
      "7     45664\n",
      "8     34567\n",
      "dtype: int64\n"
     ]
    }
   ],
   "source": [
    "#changing index or serial no.-\n",
    "\n",
    "num1=[2334,9098,4598,872,643,3009,5467,3349]\n",
    "var=pd.Series(num1,index=['a','b','c','d','e','f','g','h'])\n",
    "print(var)\n",
    "\n",
    "print()\n",
    "\n",
    "num2=[378766,99807,45664,34567]\n",
    "p=pd.Series(num2,index=[5,6,7,8])\n",
    "print(p)"
   ]
  },
  {
   "cell_type": "code",
   "execution_count": 47,
   "id": "28b747ac-cbe4-4db7-b13f-251bb5520c0b",
   "metadata": {},
   "outputs": [
    {
     "name": "stdout",
     "output_type": "stream",
     "text": [
      "0    2000.0\n",
      "1    2500.0\n",
      "2    3000.0\n",
      "3    6500.0\n",
      "4    5487.0\n",
      "5    5460.0\n",
      "dtype: float64\n",
      "<class 'pandas.core.series.Series'>\n",
      "\n",
      "0     456.30\n",
      "1     345.98\n",
      "2     762.50\n",
      "3    8989.60\n",
      "4    7658.76\n",
      "dtype: float64\n",
      "<class 'pandas.core.series.Series'>\n",
      "\n",
      "0     456\n",
      "1     345\n",
      "2     762\n",
      "3    8989\n",
      "4    7658\n",
      "dtype: int64\n",
      "<class 'pandas.core.series.Series'>\n"
     ]
    }
   ],
   "source": [
    "#changing type (int-float)-\n",
    "\n",
    "num3=[2000,2500,3000,6500,5487,5460]\n",
    "var2=pd.Series(num3,dtype=\"float\")\n",
    "print(var2)\n",
    "print(type(var2))\n",
    "\n",
    "print()\n",
    "\n",
    "#float to int->\n",
    "# num4=[456.3,345.98,762.5,8989.6,7658.76]\n",
    "# var3=pd.Series(num4,dtype=\"int\")  -----> not Performing\n",
    "# print(var3)\n",
    "# print(type(var3))   ---> Error\n",
    "\n",
    "num5=[456.3,345.98,762.5,8989.6,7658.76]\n",
    "var4=pd.Series(num5)\n",
    "print(var4)\n",
    "print(type(var4))\n",
    "\n",
    "print()\n",
    "\n",
    "float_to_int=var4.astype(int)\n",
    "print(float_to_int)\n",
    "\n",
    "print(type(float_to_int))"
   ]
  },
  {
   "cell_type": "code",
   "execution_count": 67,
   "id": "5c776bbf-54f7-43ff-a6f7-74fc12fbc9dc",
   "metadata": {},
   "outputs": [
    {
     "name": "stdout",
     "output_type": "stream",
     "text": [
      "0     388.0\n",
      "1    1201.0\n",
      "2     177.0\n",
      "3     130.0\n",
      "4    1335.0\n",
      "5     474.0\n",
      "6       NaN\n",
      "7       NaN\n",
      "dtype: float64\n",
      "<class 'pandas.core.series.Series'>\n",
      "\n",
      "The addition of y1 and y2: 0      6.0\n",
      "1      8.0\n",
      "2     10.0\n",
      "3     12.0\n",
      "4     14.0\n",
      "5     16.0\n",
      "6     18.0\n",
      "7     20.0\n",
      "8      NaN\n",
      "9      NaN\n",
      "10     NaN\n",
      "11     NaN\n",
      "dtype: float64\n"
     ]
    }
   ],
   "source": [
    "#addition of two operations:-\n",
    "\n",
    "x1=pd.Series([345,655,99,87,348,129])\n",
    "x2=pd.Series([43,546,78,43,987,345,34,567])\n",
    "result=(x1+x2)\n",
    "print(result)        #it also perform addition operation when numer is missing but gives NAN (but in numpy gives broadcasting error).\n",
    "print(type(result))\n",
    "print()\n",
    "\n",
    "#using range() function\n",
    "\n",
    "y1=pd.Series(range(1,13))\n",
    "y2=pd.Series(range(5,13))\n",
    "\n",
    "print(\"The addition of y1 and y2:\",y1+y2)  #sum of y1 & y2"
   ]
  },
  {
   "cell_type": "markdown",
   "id": "2536120e-a3d7-49fd-a28d-2e807f817722",
   "metadata": {},
   "source": [
    "# DataFrame:-"
   ]
  },
  {
   "cell_type": "code",
   "execution_count": 68,
   "id": "e563cb33-d97b-48c5-a9df-d4c8ebaf8a91",
   "metadata": {},
   "outputs": [],
   "source": [
    "import pandas as pd  "
   ]
  },
  {
   "cell_type": "code",
   "execution_count": 19,
   "id": "06b11108-e1dd-4993-9373-d800e41192e3",
   "metadata": {},
   "outputs": [
    {
     "name": "stdout",
     "output_type": "stream",
     "text": [
      "    0\n",
      "0  23\n",
      "1  45\n",
      "2  65\n",
      "3  43\n",
      "4  45\n",
      "<class 'pandas.core.frame.DataFrame'>\n"
     ]
    },
    {
     "data": {
      "text/html": [
       "<div>\n",
       "<style scoped>\n",
       "    .dataframe tbody tr th:only-of-type {\n",
       "        vertical-align: middle;\n",
       "    }\n",
       "\n",
       "    .dataframe tbody tr th {\n",
       "        vertical-align: top;\n",
       "    }\n",
       "\n",
       "    .dataframe thead th {\n",
       "        text-align: right;\n",
       "    }\n",
       "</style>\n",
       "<table border=\"1\" class=\"dataframe\">\n",
       "  <thead>\n",
       "    <tr style=\"text-align: right;\">\n",
       "      <th></th>\n",
       "      <th>0</th>\n",
       "    </tr>\n",
       "  </thead>\n",
       "  <tbody>\n",
       "    <tr>\n",
       "      <th>0</th>\n",
       "      <td>23</td>\n",
       "    </tr>\n",
       "    <tr>\n",
       "      <th>1</th>\n",
       "      <td>45</td>\n",
       "    </tr>\n",
       "    <tr>\n",
       "      <th>2</th>\n",
       "      <td>65</td>\n",
       "    </tr>\n",
       "  </tbody>\n",
       "</table>\n",
       "</div>"
      ],
      "text/plain": [
       "    0\n",
       "0  23\n",
       "1  45\n",
       "2  65"
      ]
     },
     "execution_count": 19,
     "metadata": {},
     "output_type": "execute_result"
    }
   ],
   "source": [
    "#As a list-\n",
    "\n",
    "lst=[23,45,65,43,45]  #as a list\n",
    "var=pd.DataFrame(lst)\n",
    "print(var)  \n",
    "print(type(var))  #type of operation\n",
    "var.head(3)  #it show the first operation (entered or dafualt 5)"
   ]
  },
  {
   "cell_type": "code",
   "execution_count": 75,
   "id": "6c23aa32-8ac9-43de-b8b9-53e74dd60680",
   "metadata": {},
   "outputs": [
    {
     "name": "stdout",
     "output_type": "stream",
     "text": [
      "    Names  Age\n",
      "0  prince   20\n",
      "1  Hritik   22\n",
      "<class 'pandas.core.frame.DataFrame'>\n"
     ]
    }
   ],
   "source": [
    "#As a Dictionary-\n",
    "\n",
    "dict={\"Names\":[\"prince\",\"Hritik\"],\"Age\":[20,22]}\n",
    "var2=pd.DataFrame(dict)\n",
    "print(var2)\n",
    "print(type(var2))  #type"
   ]
  },
  {
   "cell_type": "code",
   "execution_count": 80,
   "id": "2f28eedd-399e-4e60-a416-efa7d801c201",
   "metadata": {},
   "outputs": [
    {
     "name": "stdout",
     "output_type": "stream",
     "text": [
      "   Weight\n",
      "0      70\n",
      "1      73\n",
      "<class 'pandas.core.frame.DataFrame'>\n",
      "2\n"
     ]
    }
   ],
   "source": [
    "#As a dictionary we can perform the operation only (column) example-\n",
    "\n",
    "dict={\"Names\":[\"prince\",\"Hritik\"],\"Age\":[20,22],\"Weight\":[70,73]}  #add weight for explaination\n",
    "var2=pd.DataFrame(dict,columns=[\"Weight\"])   #only column\n",
    "print(var2)\n",
    "print(type(var2))\n",
    "print(var2.size)  #size of operation"
   ]
  },
  {
   "cell_type": "code",
   "execution_count": 87,
   "id": "465df732-c869-451e-959a-3d19bac3b43b",
   "metadata": {},
   "outputs": [
    {
     "name": "stdout",
     "output_type": "stream",
     "text": [
      "   Subject  Marks\n",
      "0     Math     88\n",
      "1  Science     92\n",
      "2  History     79\n",
      "\n",
      "History\n",
      "Science\n",
      "79\n",
      "Math\n"
     ]
    }
   ],
   "source": [
    "#Accessing the value:-\n",
    "data = {'Subject':['Math','Science','History'],'Marks': [88,92,79]}\n",
    "df = pd.DataFrame(data)\n",
    "print(df)\n",
    "print()\n",
    "\n",
    "print(df['Subject'][2])   #Accessing the no.2 index of Subject\n",
    "print(df['Subject'][1])   #Accessing the no.1 index of Subject\n",
    "print(df['Marks'][2])     #Accessing the no.2 index of Marks\n",
    "print(df['Subject'][0])   #Accessing the no.0 index of Subject"
   ]
  },
  {
   "cell_type": "code",
   "execution_count": 94,
   "id": "52f29768-9e5e-46db-a004-fba2962641d2",
   "metadata": {},
   "outputs": [
    {
     "name": "stdout",
     "output_type": "stream",
     "text": [
      "    0   1   2   3   4   5   6\n",
      "0  24  45  65  45  32  16  95\n",
      "1  67  45  65  78  86  87  54\n",
      "2  65  99  81  87  22  18  87\n",
      "2\n",
      "21\n",
      "<class 'pandas.core.frame.DataFrame'>\n"
     ]
    }
   ],
   "source": [
    "#List inside a list:-\n",
    "\n",
    "lst=[[24,45,65,45,32,16,95],[67,45,65,78,86,87,54],[65,99,81,87,22,18,87]]\n",
    "lst=pd.DataFrame(lst)\n",
    "print(lst)\n",
    "print(lst.ndim)   #checking dimension\n",
    "print(lst.size)   #checking size\n",
    "print(type(lst))  #checking type"
   ]
  },
  {
   "cell_type": "code",
   "execution_count": 97,
   "id": "322383c2-a2ef-448c-9afa-ba3cb273fcfe",
   "metadata": {},
   "outputs": [
    {
     "name": "stdout",
     "output_type": "stream",
     "text": [
      "   s  r\n",
      "0  1  1\n",
      "1  2  2\n",
      "2  3  3\n",
      "3  4  4\n"
     ]
    }
   ],
   "source": [
    "#we can perform DataFrame as dictionary of Series-\n",
    "\n",
    "sr={'s':pd.Series([1,2,3,4]),'r':pd.Series([1,2,3,4])}   #Series of 's' & 'r' as dictionary in sr variable.\n",
    "psr=pd.DataFrame(sr)   #converting to Dataframe.\n",
    "print(psr)"
   ]
  },
  {
   "cell_type": "code",
   "execution_count": 109,
   "id": "c4bcd989-b7b7-4a14-b4bc-6eed2cf5637c",
   "metadata": {},
   "outputs": [
    {
     "name": "stdout",
     "output_type": "stream",
     "text": [
      "    A   B   C\n",
      "0  13  32  23\n",
      "1  25  24  41\n",
      "2  53  17  19\n",
      "\n",
      "Addition\n",
      "    A   B   C   D\n",
      "0  13  32  23  68\n",
      "1  25  24  41  90\n",
      "2  53  17  19  89\n",
      "\n",
      "Subtraction\n",
      "    A   B   C   D\n",
      "0  13  32  23 -42\n",
      "1  25  24  41 -40\n",
      "2  53  17  19  17\n",
      "Division\n",
      "    A   B   C         D\n",
      "0  13  32  23  0.017663\n",
      "1  25  24  41  0.025407\n",
      "2  53  17  19  0.164087\n",
      "Multiplication\n",
      "    A   B   C      D\n",
      "0  13  32  23   9568\n",
      "1  25  24  41  24600\n",
      "2  53  17  19  17119\n"
     ]
    }
   ],
   "source": [
    "#Arthmetic operations on DataFrame\n",
    "var=pd.DataFrame({'A':[13,25,53],'B':[32,24,17],'C':[23,41,19]})\n",
    "print(var)\n",
    "print()\n",
    "\n",
    "#Addition-\n",
    "print(\"Addition\")\n",
    "var[\"D\"]=var['A']+var['B']+var['C']  #for addition\n",
    "print(var)\n",
    "print()\n",
    "\n",
    "#Subtration\n",
    "print(\"Subtraction\")\n",
    "var[\"D\"]=var['A']-var['B']-var['C']   #for subtraction\n",
    "print(var)\n",
    "\n",
    "#Division\n",
    "print(\"Division\")\n",
    "var[\"D\"]=var['A']/var['B']/var['C']  #for division\n",
    "print(var)\n",
    "\n",
    "#Multiplication\n",
    "print(\"Multiplication\")\n",
    "var[\"D\"]=var['A']*var['B']*var['C']\n",
    "print(var)"
   ]
  },
  {
   "cell_type": "code",
   "execution_count": 119,
   "id": "a9a3a09d-3cb9-4ab5-a034-4cd96d131ce2",
   "metadata": {},
   "outputs": [
    {
     "name": "stdout",
     "output_type": "stream",
     "text": [
      "    A   B   C  Greater than 20 in B\n",
      "0  13  32  23                  True\n",
      "1  25  24  41                  True\n",
      "2  53  17  19                 False\n",
      "______________________________________________________________________________-\n",
      "    A   B   C  Greater than 20 in B  less than 20 in A than 20 in A\n",
      "0  13  32  23                  True                            True\n",
      "1  25  24  41                  True                           False\n",
      "2  53  17  19                 False                           False\n"
     ]
    }
   ],
   "source": [
    "#Greater or less check in DataFrame:-\n",
    "var=pd.DataFrame({'A':[13,25,53],'B':[32,24,17],'C':[23,41,19]})\n",
    "\n",
    "#Graeter\n",
    "var['Greater than 20 in B']=var['B']>20\n",
    "print(var)\n",
    "\n",
    "print(\"______________________________________________________________________________-\")\n",
    "\n",
    "#Less\n",
    "var[\"less than 20 in A than 20 in A\"]=var['A']<=20\n",
    "print(var)"
   ]
  },
  {
   "cell_type": "code",
   "execution_count": 16,
   "id": "1c72ed71-032b-4106-8665-572020e7155f",
   "metadata": {},
   "outputs": [
    {
     "name": "stdout",
     "output_type": "stream",
     "text": [
      "   Customer_ID    Name  Age       city\n",
      "0            1  Prince   19      Delhi\n",
      "1            2  Hritik   20       Agra\n",
      "2            3  Rencho   22  Hyderabad\n",
      "3            4  Gaurav   21     Jaipur\n",
      "4            5  Gautam   23     kanpur\n",
      "5            6  Saurav   19    Jodhpur\n"
     ]
    },
    {
     "data": {
      "text/html": [
       "<div>\n",
       "<style scoped>\n",
       "    .dataframe tbody tr th:only-of-type {\n",
       "        vertical-align: middle;\n",
       "    }\n",
       "\n",
       "    .dataframe tbody tr th {\n",
       "        vertical-align: top;\n",
       "    }\n",
       "\n",
       "    .dataframe thead th {\n",
       "        text-align: right;\n",
       "    }\n",
       "</style>\n",
       "<table border=\"1\" class=\"dataframe\">\n",
       "  <thead>\n",
       "    <tr style=\"text-align: right;\">\n",
       "      <th></th>\n",
       "      <th>Customer_ID</th>\n",
       "      <th>Age</th>\n",
       "    </tr>\n",
       "  </thead>\n",
       "  <tbody>\n",
       "    <tr>\n",
       "      <th>count</th>\n",
       "      <td>6.000000</td>\n",
       "      <td>6.000000</td>\n",
       "    </tr>\n",
       "    <tr>\n",
       "      <th>mean</th>\n",
       "      <td>3.500000</td>\n",
       "      <td>20.666667</td>\n",
       "    </tr>\n",
       "    <tr>\n",
       "      <th>std</th>\n",
       "      <td>1.870829</td>\n",
       "      <td>1.632993</td>\n",
       "    </tr>\n",
       "    <tr>\n",
       "      <th>min</th>\n",
       "      <td>1.000000</td>\n",
       "      <td>19.000000</td>\n",
       "    </tr>\n",
       "    <tr>\n",
       "      <th>25%</th>\n",
       "      <td>2.250000</td>\n",
       "      <td>19.250000</td>\n",
       "    </tr>\n",
       "    <tr>\n",
       "      <th>50%</th>\n",
       "      <td>3.500000</td>\n",
       "      <td>20.500000</td>\n",
       "    </tr>\n",
       "    <tr>\n",
       "      <th>75%</th>\n",
       "      <td>4.750000</td>\n",
       "      <td>21.750000</td>\n",
       "    </tr>\n",
       "    <tr>\n",
       "      <th>max</th>\n",
       "      <td>6.000000</td>\n",
       "      <td>23.000000</td>\n",
       "    </tr>\n",
       "  </tbody>\n",
       "</table>\n",
       "</div>"
      ],
      "text/plain": [
       "       Customer_ID        Age\n",
       "count     6.000000   6.000000\n",
       "mean      3.500000  20.666667\n",
       "std       1.870829   1.632993\n",
       "min       1.000000  19.000000\n",
       "25%       2.250000  19.250000\n",
       "50%       3.500000  20.500000\n",
       "75%       4.750000  21.750000\n",
       "max       6.000000  23.000000"
      ]
     },
     "execution_count": 16,
     "metadata": {},
     "output_type": "execute_result"
    }
   ],
   "source": [
    "#Converting customers csv into dataframe:- \n",
    "#CSV of Customers:-\n",
    "\n",
    "Data={\"Customer_ID\":[1,2,3,4,5,6],\n",
    "      \"Name\":['Prince','Hritik','Rencho','Gaurav','Gautam','Saurav'],\n",
    "      \"Age\":[19,20,22,21,23,19],\n",
    "      \"city\":['Delhi','Agra','Hyderabad','Jaipur','kanpur','Jodhpur']}\n",
    "\n",
    "customer_data=pd.DataFrame(Data)\n",
    "print(customer_data)\n",
    "\n",
    "customer_data.describe()  #describe function (show- count,mean,std,min,max,etc)\n"
   ]
  },
  {
   "cell_type": "code",
   "execution_count": 23,
   "id": "273cbc6d-50c6-4e34-9a9e-005c19df6cbf",
   "metadata": {},
   "outputs": [
    {
     "data": {
      "text/html": [
       "<div>\n",
       "<style scoped>\n",
       "    .dataframe tbody tr th:only-of-type {\n",
       "        vertical-align: middle;\n",
       "    }\n",
       "\n",
       "    .dataframe tbody tr th {\n",
       "        vertical-align: top;\n",
       "    }\n",
       "\n",
       "    .dataframe thead th {\n",
       "        text-align: right;\n",
       "    }\n",
       "</style>\n",
       "<table border=\"1\" class=\"dataframe\">\n",
       "  <thead>\n",
       "    <tr style=\"text-align: right;\">\n",
       "      <th></th>\n",
       "      <th>EmployeeID</th>\n",
       "      <th>Department</th>\n",
       "      <th>Salary</th>\n",
       "    </tr>\n",
       "  </thead>\n",
       "  <tbody>\n",
       "    <tr>\n",
       "      <th>0</th>\n",
       "      <td>101</td>\n",
       "      <td>HR</td>\n",
       "      <td>50000</td>\n",
       "    </tr>\n",
       "    <tr>\n",
       "      <th>1</th>\n",
       "      <td>102</td>\n",
       "      <td>IT</td>\n",
       "      <td>70000</td>\n",
       "    </tr>\n",
       "    <tr>\n",
       "      <th>2</th>\n",
       "      <td>103</td>\n",
       "      <td>Finance</td>\n",
       "      <td>65000</td>\n",
       "    </tr>\n",
       "    <tr>\n",
       "      <th>3</th>\n",
       "      <td>104</td>\n",
       "      <td>IT</td>\n",
       "      <td>80000</td>\n",
       "    </tr>\n",
       "    <tr>\n",
       "      <th>4</th>\n",
       "      <td>105</td>\n",
       "      <td>HR</td>\n",
       "      <td>55000</td>\n",
       "    </tr>\n",
       "  </tbody>\n",
       "</table>\n",
       "</div>"
      ],
      "text/plain": [
       "   EmployeeID Department  Salary\n",
       "0         101         HR   50000\n",
       "1         102         IT   70000\n",
       "2         103    Finance   65000\n",
       "3         104         IT   80000\n",
       "4         105         HR   55000"
      ]
     },
     "execution_count": 23,
     "metadata": {},
     "output_type": "execute_result"
    }
   ],
   "source": [
    "# practice question:-\n",
    "# Write code using loc to select all rows where Department is \"IT\" and Salary is greater than 75000.-\n",
    "\n",
    "\n",
    "data={'EmployeeID':[101,102,103,104,105],'Department':['HR','IT','Finance','IT','HR'],'Salary':[50000,70000,65000,80000,55000]}\n",
    "df=pd.DataFrame(data)\n",
    "df"
   ]
  },
  {
   "cell_type": "code",
   "execution_count": 24,
   "id": "e95e2b9f-d83d-4f6e-bc52-bae173533a27",
   "metadata": {},
   "outputs": [
    {
     "data": {
      "text/html": [
       "<div>\n",
       "<style scoped>\n",
       "    .dataframe tbody tr th:only-of-type {\n",
       "        vertical-align: middle;\n",
       "    }\n",
       "\n",
       "    .dataframe tbody tr th {\n",
       "        vertical-align: top;\n",
       "    }\n",
       "\n",
       "    .dataframe thead th {\n",
       "        text-align: right;\n",
       "    }\n",
       "</style>\n",
       "<table border=\"1\" class=\"dataframe\">\n",
       "  <thead>\n",
       "    <tr style=\"text-align: right;\">\n",
       "      <th></th>\n",
       "      <th>EmployeeID</th>\n",
       "      <th>Department</th>\n",
       "      <th>Salary</th>\n",
       "    </tr>\n",
       "  </thead>\n",
       "  <tbody>\n",
       "    <tr>\n",
       "      <th>3</th>\n",
       "      <td>104</td>\n",
       "      <td>IT</td>\n",
       "      <td>80000</td>\n",
       "    </tr>\n",
       "  </tbody>\n",
       "</table>\n",
       "</div>"
      ],
      "text/plain": [
       "   EmployeeID Department  Salary\n",
       "3         104         IT   80000"
      ]
     },
     "execution_count": 24,
     "metadata": {},
     "output_type": "execute_result"
    }
   ],
   "source": [
    "condition=(df['Department']=='IT') & (df['Salary']>75000)\n",
    "result=df.loc[condition]  #loc function (used to filter rows and columns).\n",
    "result"
   ]
  },
  {
   "cell_type": "code",
   "execution_count": null,
   "id": "4df0221b-229f-4d57-ab42-e5f97bd5e3d0",
   "metadata": {},
   "outputs": [],
   "source": []
  }
 ],
 "metadata": {
  "kernelspec": {
   "display_name": "Python 3 (ipykernel)",
   "language": "python",
   "name": "python3"
  },
  "language_info": {
   "codemirror_mode": {
    "name": "ipython",
    "version": 3
   },
   "file_extension": ".py",
   "mimetype": "text/x-python",
   "name": "python",
   "nbconvert_exporter": "python",
   "pygments_lexer": "ipython3",
   "version": "3.13.3"
  }
 },
 "nbformat": 4,
 "nbformat_minor": 5
}
